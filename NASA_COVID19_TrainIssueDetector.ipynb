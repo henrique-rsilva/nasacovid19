{
  "nbformat": 4,
  "nbformat_minor": 0,
  "metadata": {
    "colab": {
      "name": "NASA-COVID19-TrainIssueDetector.ipynb",
      "provenance": [],
      "collapsed_sections": [],
      "toc_visible": true,
      "include_colab_link": true
    },
    "kernelspec": {
      "name": "python3",
      "display_name": "Python 3"
    },
    "widgets": {
      "application/vnd.jupyter.widget-state+json": {
        "e7fe724afdf94685aab32dfede7c1267": {
          "model_module": "@jupyter-widgets/controls",
          "model_name": "HBoxModel",
          "state": {
            "_view_name": "HBoxView",
            "_dom_classes": [],
            "_model_name": "HBoxModel",
            "_view_module": "@jupyter-widgets/controls",
            "_model_module_version": "1.5.0",
            "_view_count": null,
            "_view_module_version": "1.5.0",
            "box_style": "",
            "layout": "IPY_MODEL_d05be89676984afaaecdfcea69de210d",
            "_model_module": "@jupyter-widgets/controls",
            "children": [
              "IPY_MODEL_a33e36dc35524ce5973899cd51d91aae",
              "IPY_MODEL_f6343197da9f421a87f69b715dbb8515"
            ]
          }
        },
        "d05be89676984afaaecdfcea69de210d": {
          "model_module": "@jupyter-widgets/base",
          "model_name": "LayoutModel",
          "state": {
            "_view_name": "LayoutView",
            "grid_template_rows": null,
            "right": null,
            "justify_content": null,
            "_view_module": "@jupyter-widgets/base",
            "overflow": null,
            "_model_module_version": "1.2.0",
            "_view_count": null,
            "flex_flow": null,
            "width": null,
            "min_width": null,
            "border": null,
            "align_items": null,
            "bottom": null,
            "_model_module": "@jupyter-widgets/base",
            "top": null,
            "grid_column": null,
            "overflow_y": null,
            "overflow_x": null,
            "grid_auto_flow": null,
            "grid_area": null,
            "grid_template_columns": null,
            "flex": null,
            "_model_name": "LayoutModel",
            "justify_items": null,
            "grid_row": null,
            "max_height": null,
            "align_content": null,
            "visibility": null,
            "align_self": null,
            "height": null,
            "min_height": null,
            "padding": null,
            "grid_auto_rows": null,
            "grid_gap": null,
            "max_width": null,
            "order": null,
            "_view_module_version": "1.2.0",
            "grid_template_areas": null,
            "object_position": null,
            "object_fit": null,
            "grid_auto_columns": null,
            "margin": null,
            "display": null,
            "left": null
          }
        },
        "a33e36dc35524ce5973899cd51d91aae": {
          "model_module": "@jupyter-widgets/controls",
          "model_name": "FloatProgressModel",
          "state": {
            "_view_name": "ProgressView",
            "style": "IPY_MODEL_dd518551f85e4144b109d36a02eb749a",
            "_dom_classes": [],
            "description": "100%",
            "_model_name": "FloatProgressModel",
            "bar_style": "success",
            "max": 149,
            "_view_module": "@jupyter-widgets/controls",
            "_model_module_version": "1.5.0",
            "value": 149,
            "_view_count": null,
            "_view_module_version": "1.5.0",
            "orientation": "horizontal",
            "min": 0,
            "description_tooltip": null,
            "_model_module": "@jupyter-widgets/controls",
            "layout": "IPY_MODEL_a331c4110a1d415482750ba53588c951"
          }
        },
        "f6343197da9f421a87f69b715dbb8515": {
          "model_module": "@jupyter-widgets/controls",
          "model_name": "HTMLModel",
          "state": {
            "_view_name": "HTMLView",
            "style": "IPY_MODEL_0864cb3dda9a455a9205b75797f52b4f",
            "_dom_classes": [],
            "description": "",
            "_model_name": "HTMLModel",
            "placeholder": "​",
            "_view_module": "@jupyter-widgets/controls",
            "_model_module_version": "1.5.0",
            "value": " 149/149 [00:46&lt;00:00,  3.21it/s]",
            "_view_count": null,
            "_view_module_version": "1.5.0",
            "description_tooltip": null,
            "_model_module": "@jupyter-widgets/controls",
            "layout": "IPY_MODEL_70f9cf52ac5f4019a3d141346e2c9e76"
          }
        },
        "dd518551f85e4144b109d36a02eb749a": {
          "model_module": "@jupyter-widgets/controls",
          "model_name": "ProgressStyleModel",
          "state": {
            "_view_name": "StyleView",
            "_model_name": "ProgressStyleModel",
            "description_width": "initial",
            "_view_module": "@jupyter-widgets/base",
            "_model_module_version": "1.5.0",
            "_view_count": null,
            "_view_module_version": "1.2.0",
            "bar_color": null,
            "_model_module": "@jupyter-widgets/controls"
          }
        },
        "a331c4110a1d415482750ba53588c951": {
          "model_module": "@jupyter-widgets/base",
          "model_name": "LayoutModel",
          "state": {
            "_view_name": "LayoutView",
            "grid_template_rows": null,
            "right": null,
            "justify_content": null,
            "_view_module": "@jupyter-widgets/base",
            "overflow": null,
            "_model_module_version": "1.2.0",
            "_view_count": null,
            "flex_flow": null,
            "width": null,
            "min_width": null,
            "border": null,
            "align_items": null,
            "bottom": null,
            "_model_module": "@jupyter-widgets/base",
            "top": null,
            "grid_column": null,
            "overflow_y": null,
            "overflow_x": null,
            "grid_auto_flow": null,
            "grid_area": null,
            "grid_template_columns": null,
            "flex": null,
            "_model_name": "LayoutModel",
            "justify_items": null,
            "grid_row": null,
            "max_height": null,
            "align_content": null,
            "visibility": null,
            "align_self": null,
            "height": null,
            "min_height": null,
            "padding": null,
            "grid_auto_rows": null,
            "grid_gap": null,
            "max_width": null,
            "order": null,
            "_view_module_version": "1.2.0",
            "grid_template_areas": null,
            "object_position": null,
            "object_fit": null,
            "grid_auto_columns": null,
            "margin": null,
            "display": null,
            "left": null
          }
        },
        "0864cb3dda9a455a9205b75797f52b4f": {
          "model_module": "@jupyter-widgets/controls",
          "model_name": "DescriptionStyleModel",
          "state": {
            "_view_name": "StyleView",
            "_model_name": "DescriptionStyleModel",
            "description_width": "",
            "_view_module": "@jupyter-widgets/base",
            "_model_module_version": "1.5.0",
            "_view_count": null,
            "_view_module_version": "1.2.0",
            "_model_module": "@jupyter-widgets/controls"
          }
        },
        "70f9cf52ac5f4019a3d141346e2c9e76": {
          "model_module": "@jupyter-widgets/base",
          "model_name": "LayoutModel",
          "state": {
            "_view_name": "LayoutView",
            "grid_template_rows": null,
            "right": null,
            "justify_content": null,
            "_view_module": "@jupyter-widgets/base",
            "overflow": null,
            "_model_module_version": "1.2.0",
            "_view_count": null,
            "flex_flow": null,
            "width": null,
            "min_width": null,
            "border": null,
            "align_items": null,
            "bottom": null,
            "_model_module": "@jupyter-widgets/base",
            "top": null,
            "grid_column": null,
            "overflow_y": null,
            "overflow_x": null,
            "grid_auto_flow": null,
            "grid_area": null,
            "grid_template_columns": null,
            "flex": null,
            "_model_name": "LayoutModel",
            "justify_items": null,
            "grid_row": null,
            "max_height": null,
            "align_content": null,
            "visibility": null,
            "align_self": null,
            "height": null,
            "min_height": null,
            "padding": null,
            "grid_auto_rows": null,
            "grid_gap": null,
            "max_width": null,
            "order": null,
            "_view_module_version": "1.2.0",
            "grid_template_areas": null,
            "object_position": null,
            "object_fit": null,
            "grid_auto_columns": null,
            "margin": null,
            "display": null,
            "left": null
          }
        }
      }
    }
  },
  "cells": [
    {
      "cell_type": "markdown",
      "metadata": {
        "id": "view-in-github",
        "colab_type": "text"
      },
      "source": [
        "<a href=\"https://colab.research.google.com/github/henrique-rsilva/nasacovid19/blob/feature%2Fai_model/NASA_COVID19_TrainIssueDetector.ipynb\" target=\"_parent\"><img src=\"https://colab.research.google.com/assets/colab-badge.svg\" alt=\"Open In Colab\"/></a>"
      ]
    },
    {
      "cell_type": "markdown",
      "metadata": {
        "id": "r3flQUFRgfiN",
        "colab_type": "text"
      },
      "source": [
        "# Initialize"
      ]
    },
    {
      "cell_type": "code",
      "metadata": {
        "id": "Xm4pRu12aVvy",
        "colab_type": "code",
        "outputId": "ad81d15d-18e9-43fd-a3e2-8f11077b7230",
        "colab": {
          "base_uri": "https://localhost:8080/",
          "height": 326
        }
      },
      "source": [
        "!pip install transformers"
      ],
      "execution_count": 0,
      "outputs": [
        {
          "output_type": "stream",
          "text": [
            "Requirement already satisfied: transformers in /usr/local/lib/python3.6/dist-packages (2.10.0)\n",
            "Requirement already satisfied: sacremoses in /usr/local/lib/python3.6/dist-packages (from transformers) (0.0.43)\n",
            "Requirement already satisfied: regex!=2019.12.17 in /usr/local/lib/python3.6/dist-packages (from transformers) (2019.12.20)\n",
            "Requirement already satisfied: requests in /usr/local/lib/python3.6/dist-packages (from transformers) (2.23.0)\n",
            "Requirement already satisfied: tqdm>=4.27 in /usr/local/lib/python3.6/dist-packages (from transformers) (4.41.1)\n",
            "Requirement already satisfied: sentencepiece in /usr/local/lib/python3.6/dist-packages (from transformers) (0.1.91)\n",
            "Requirement already satisfied: filelock in /usr/local/lib/python3.6/dist-packages (from transformers) (3.0.12)\n",
            "Requirement already satisfied: numpy in /usr/local/lib/python3.6/dist-packages (from transformers) (1.18.4)\n",
            "Requirement already satisfied: dataclasses; python_version < \"3.7\" in /usr/local/lib/python3.6/dist-packages (from transformers) (0.7)\n",
            "Requirement already satisfied: tokenizers==0.7.0 in /usr/local/lib/python3.6/dist-packages (from transformers) (0.7.0)\n",
            "Requirement already satisfied: click in /usr/local/lib/python3.6/dist-packages (from sacremoses->transformers) (7.1.2)\n",
            "Requirement already satisfied: six in /usr/local/lib/python3.6/dist-packages (from sacremoses->transformers) (1.12.0)\n",
            "Requirement already satisfied: joblib in /usr/local/lib/python3.6/dist-packages (from sacremoses->transformers) (0.15.1)\n",
            "Requirement already satisfied: urllib3!=1.25.0,!=1.25.1,<1.26,>=1.21.1 in /usr/local/lib/python3.6/dist-packages (from requests->transformers) (1.24.3)\n",
            "Requirement already satisfied: idna<3,>=2.5 in /usr/local/lib/python3.6/dist-packages (from requests->transformers) (2.9)\n",
            "Requirement already satisfied: certifi>=2017.4.17 in /usr/local/lib/python3.6/dist-packages (from requests->transformers) (2020.4.5.1)\n",
            "Requirement already satisfied: chardet<4,>=3.0.2 in /usr/local/lib/python3.6/dist-packages (from requests->transformers) (3.0.4)\n"
          ],
          "name": "stdout"
        }
      ]
    },
    {
      "cell_type": "code",
      "metadata": {
        "id": "BfpBE3W3dqTG",
        "colab_type": "code",
        "colab": {}
      },
      "source": [
        "from transformers import BertTokenizer, BertModel\n",
        "import torch\n",
        "\n",
        "from sklearn.neural_network import MLPClassifier\n",
        "\n",
        "from glob import glob\n",
        "\n",
        "from tqdm import tqdm_notebook as tqdm"
      ],
      "execution_count": 0,
      "outputs": []
    },
    {
      "cell_type": "markdown",
      "metadata": {
        "id": "63UBGi6nguyM",
        "colab_type": "text"
      },
      "source": [
        "# Load training data"
      ]
    },
    {
      "cell_type": "code",
      "metadata": {
        "id": "A0ylRC-zgxF1",
        "colab_type": "code",
        "colab": {}
      },
      "source": [
        "sentences = []\n",
        "classes = []\n",
        "\n",
        "for filename in glob('*csv'):\n",
        "\n",
        "  fp = open(filename)\n",
        "\n",
        "  for sentence in fp:\n",
        "    sentences.append(sentence.lower().strip())\n",
        "    classes.append(filename.split('.')[0])\n",
        "\n",
        "  fp.close()"
      ],
      "execution_count": 0,
      "outputs": []
    },
    {
      "cell_type": "code",
      "metadata": {
        "id": "kkSy9AK_zQFy",
        "colab_type": "code",
        "outputId": "88ac8e84-aa32-4d09-eb3c-f19b02fb6f9f",
        "colab": {
          "base_uri": "https://localhost:8080/",
          "height": 34
        }
      },
      "source": [
        "len(classes)"
      ],
      "execution_count": 0,
      "outputs": [
        {
          "output_type": "execute_result",
          "data": {
            "text/plain": [
              "149"
            ]
          },
          "metadata": {
            "tags": []
          },
          "execution_count": 57
        }
      ]
    },
    {
      "cell_type": "markdown",
      "metadata": {
        "id": "qELnWxNzgoj8",
        "colab_type": "text"
      },
      "source": [
        "# Initialize BERT"
      ]
    },
    {
      "cell_type": "code",
      "metadata": {
        "id": "jJjjTnsNfhJu",
        "colab_type": "code",
        "colab": {}
      },
      "source": [
        "tokenizer = BertTokenizer.from_pretrained('bert-base-uncased')\n",
        "model = BertModel.from_pretrained('bert-base-uncased')"
      ],
      "execution_count": 0,
      "outputs": []
    },
    {
      "cell_type": "code",
      "metadata": {
        "id": "_ImOmJIgfsoN",
        "colab_type": "code",
        "outputId": "122e444a-0815-44c9-c0ab-af41ccabcb76",
        "colab": {
          "base_uri": "https://localhost:8080/",
          "height": 137,
          "referenced_widgets": [
            "e7fe724afdf94685aab32dfede7c1267",
            "d05be89676984afaaecdfcea69de210d",
            "a33e36dc35524ce5973899cd51d91aae",
            "f6343197da9f421a87f69b715dbb8515",
            "dd518551f85e4144b109d36a02eb749a",
            "a331c4110a1d415482750ba53588c951",
            "0864cb3dda9a455a9205b75797f52b4f",
            "70f9cf52ac5f4019a3d141346e2c9e76"
          ]
        }
      },
      "source": [
        "X = []\n",
        "\n",
        "for sentence in tqdm(sentences):\n",
        "    input_ids = torch.tensor(tokenizer.encode(sentence.lower().strip(), add_special_tokens=True,max_length=512)).unsqueeze(0)  # Batch size 1\n",
        "    outputs = model(input_ids)\n",
        "    last_hidden_states = outputs[0] # The last hidden-state is the first element of the output tuple\n",
        "    X.append(last_hidden_states[0,0,:].data.tolist()) # Get 'CLS' data\n"
      ],
      "execution_count": 0,
      "outputs": [
        {
          "output_type": "stream",
          "text": [
            "/usr/local/lib/python3.6/dist-packages/ipykernel_launcher.py:3: TqdmDeprecationWarning: This function will be removed in tqdm==5.0.0\n",
            "Please use `tqdm.notebook.tqdm` instead of `tqdm.tqdm_notebook`\n",
            "  This is separate from the ipykernel package so we can avoid doing imports until\n"
          ],
          "name": "stderr"
        },
        {
          "output_type": "display_data",
          "data": {
            "application/vnd.jupyter.widget-view+json": {
              "model_id": "e7fe724afdf94685aab32dfede7c1267",
              "version_minor": 0,
              "version_major": 2
            },
            "text/plain": [
              "HBox(children=(FloatProgress(value=0.0, max=149.0), HTML(value='')))"
            ]
          },
          "metadata": {
            "tags": []
          }
        },
        {
          "output_type": "stream",
          "text": [
            "\n"
          ],
          "name": "stdout"
        }
      ]
    },
    {
      "cell_type": "markdown",
      "metadata": {
        "id": "ld5hU2Jh0ryG",
        "colab_type": "text"
      },
      "source": [
        "# Train model"
      ]
    },
    {
      "cell_type": "code",
      "metadata": {
        "id": "9Hm0014V0unA",
        "colab_type": "code",
        "outputId": "a6f7ccad-e321-4d1f-f471-f0e1928957c1",
        "colab": {
          "base_uri": "https://localhost:8080/",
          "height": 71
        }
      },
      "source": [
        "mdl = MLPClassifier(max_iter=200)\n",
        "\n",
        "mdl = mdl.fit(X,classes)"
      ],
      "execution_count": 0,
      "outputs": [
        {
          "output_type": "stream",
          "text": [
            "/usr/local/lib/python3.6/dist-packages/sklearn/neural_network/_multilayer_perceptron.py:571: ConvergenceWarning: Stochastic Optimizer: Maximum iterations (200) reached and the optimization hasn't converged yet.\n",
            "  % self.max_iter, ConvergenceWarning)\n"
          ],
          "name": "stderr"
        }
      ]
    },
    {
      "cell_type": "markdown",
      "metadata": {
        "id": "-WUlsAS99qdi",
        "colab_type": "text"
      },
      "source": [
        "# Test model"
      ]
    },
    {
      "cell_type": "code",
      "metadata": {
        "id": "7jbiryY1ITJP",
        "colab_type": "code",
        "colab": {}
      },
      "source": [
        "def classify(text):\n",
        "\n",
        "  input_ids = torch.tensor(tokenizer.encode(text.lower().strip(), add_special_tokens=True,max_length=512)).unsqueeze(0)  # Batch size 1\n",
        "  x = model(input_ids)[0][0,0,:].data.tolist()\n",
        "  \n",
        "  return mdl.predict([x,x])[0]"
      ],
      "execution_count": 0,
      "outputs": []
    },
    {
      "cell_type": "code",
      "metadata": {
        "id": "EqHmAJT11AZ1",
        "colab_type": "code",
        "outputId": "991d4242-a9c5-4ac6-a37c-64e49c69f3b1",
        "colab": {
          "base_uri": "https://localhost:8080/",
          "height": 34
        }
      },
      "source": [
        "sentence = 'What do you want from me?.'\n",
        "\n",
        "label = classify(sentence)\n",
        "\n",
        "print(sentence, '->', label)"
      ],
      "execution_count": 0,
      "outputs": [
        {
          "output_type": "stream",
          "text": [
            "What do you want from me?. -> ok\n"
          ],
          "name": "stdout"
        }
      ]
    },
    {
      "cell_type": "markdown",
      "metadata": {
        "id": "aHk-97jI91We",
        "colab_type": "text"
      },
      "source": [
        "# Classify new data"
      ]
    },
    {
      "cell_type": "code",
      "metadata": {
        "id": "DTPPBRzuH0oy",
        "colab_type": "code",
        "outputId": "622e5a7a-39e2-4f11-d175-32352d4e5a8f",
        "colab": {
          "base_uri": "https://localhost:8080/",
          "height": 986
        }
      },
      "source": [
        "filename = 'IFTTT_Maker_Webhooks_Events.txt'\n",
        "\n",
        "fp_in = open(filename)\n",
        "fp_out = open('out_' + filename,'w')\n",
        "\n",
        "for line in fp_in:\n",
        "\n",
        "  label = classify(line.split(',')[5])\n",
        "  fp_out.write(line.strip() + ', ' + label + '\\n')\n",
        "\n",
        "  print(line.split(',')[5], '->', label)\n",
        "\n",
        "fp_in.close()\n",
        "fp_out.close()"
      ],
      "execution_count": 0,
      "outputs": [
        {
          "output_type": "stream",
          "text": [
            "Good!! What about you? -> ok\n",
            "bored -> ok\n",
            "I have been nice -> leisure-bored\n",
            "I'm sad -> leisure-bored\n",
            "Okk -> ok\n",
            "I don't want to say -> leisure-bored\n",
            "Tired -> ok\n",
            "Everything is ok -> ok\n",
            "I am good -> ok\n",
            "Not ok -> ok\n",
            "Bored -> ok\n",
            "Life is boring -> leisure-bored\n",
            "I am doing ok -> ok\n",
            "I am ok -> ok\n",
            "I am not very good today -> sleep\n",
            "A little bit tired -> leisure-bored\n",
            "Tired of doing the same things -> leisure-bored\n",
            "I have headache -> sleep\n",
            "I am feeling well -> ok\n",
            "Lonely -> leisure-bored\n",
            "I miss my family -> leisure-bored\n",
            "I am ok -> ok\n",
            "I`m not so good -> ok\n",
            "I miss my girlfriend -> leisure-bored\n",
            "Normal -> ok\n",
            "I am ok -> ok\n",
            "Ok -> ok\n",
            "I`ve been busy -> ok\n",
            "\"I`m not that good -> group-conflict\n",
            "I have not slept very well last night -> sleep\n",
            "Ok -> ok\n",
            "I am feeling normal -> ok\n",
            "I have been great -> ok\n",
            "I am not ok -> leisure-bored\n",
            "I am a little bit tired of working -> leisure-bored\n",
            "I have been working a lot -> work-schedule\n",
            "I am not sure -> ok\n",
            "I have been listening to some music -> sleep\n",
            "I have been alone in SP -> leisure-bored\n",
            "I am not sure about my feelings -> group-conflict\n",
            "Bored -> ok\n",
            "tired -> ok\n",
            "Not ok -> ok\n",
            "Why? -> leisure-bored\n",
            "I am kind of busy -> leisure-bored\n",
            "Watching TV makes me nervous -> leisure-bored\n",
            "I am getting sick because of the news -> sleep\n",
            "Iam ok -> ok\n",
            "ok -> ok\n",
            "I fell happy -> ok\n",
            "I am great -> ok\n",
            "I am so so -> leisure-bored\n",
            "I am not very ok -> leisure-bored\n",
            "I am doing well -> ok\n",
            "great -> ok\n",
            "Well -> ok\n",
            "Happy -> ok\n"
          ],
          "name": "stdout"
        }
      ]
    },
    {
      "cell_type": "code",
      "metadata": {
        "id": "Mj3a9Za3oIxe",
        "colab_type": "code",
        "colab": {}
      },
      "source": [
        "fp_out = open('out_' + filename)\n",
        "\n",
        "sentences = []\n",
        "age = []\n",
        "gender = []\n",
        "labels = []\n",
        "\n",
        "for line in fp_out:\n",
        "  \n",
        "  sentences.append(line.split(',')[5])\n",
        "  age.append(int(line.split(',')[-3]))\n",
        "  gender.append(line.split(',')[-2])\n",
        "  labels.append('not ok' if line.split(',')[-1].strip() != 'ok' else 'ok')\n",
        "\n",
        "fp_out.close()"
      ],
      "execution_count": 0,
      "outputs": []
    },
    {
      "cell_type": "code",
      "metadata": {
        "id": "FqYEl0PUq5wu",
        "colab_type": "code",
        "outputId": "abd149d0-b22f-40d0-a550-0ad656af2ac8",
        "colab": {
          "base_uri": "https://localhost:8080/",
          "height": 986
        }
      },
      "source": [
        "for s,a,g,l in zip(sentences,age,gender,labels):\n",
        "  print(g,'-',a,'-',l)"
      ],
      "execution_count": 0,
      "outputs": [
        {
          "output_type": "stream",
          "text": [
            "Female - 17 - ok\n",
            "Female - 18 - ok\n",
            "Female - 16 - not ok\n",
            "Female - 16 - not ok\n",
            "Male - 15 - ok\n",
            "Male - 19 - not ok\n",
            "male - 20 - ok\n",
            "Male - 21 - ok\n",
            "Female - 22 - ok\n",
            "female - 29 - ok\n",
            "Female - 29 - ok\n",
            "Male - 22 - not ok\n",
            "Female - 24 - ok\n",
            "Female - 29 - ok\n",
            "Male - 27 - not ok\n",
            "male - 29 - not ok\n",
            "Male - 16 - not ok\n",
            "Female - 21 - not ok\n",
            "female - 21 - ok\n",
            "Female - 23 - not ok\n",
            "Male - 24 - not ok\n",
            "Male - 20 - ok\n",
            "male - 26 - ok\n",
            "Male - 29 - not ok\n",
            "Female - 21 - ok\n",
            "female - 20 - ok\n",
            "Male - 16 - ok\n",
            "Female - 27 - ok\n",
            "Female - 30 - not ok\n",
            "Male - 23 - not ok\n",
            "Male - 19 - ok\n",
            "Female - 19 - ok\n",
            "Female - 24 - ok\n",
            "Female - 24 - not ok\n",
            "Male - 20 - not ok\n",
            "Male - 18 - not ok\n",
            "Female - 25 - ok\n",
            "Male - 24 - not ok\n",
            "Female - 25 - not ok\n",
            "Female - 23 - not ok\n",
            "Female - 26 - ok\n",
            "Female - 17 - ok\n",
            "Male - 25 - ok\n",
            "Male - 24 - not ok\n",
            "Female - 25 - not ok\n",
            "Female - 25 - not ok\n",
            "male - 27 - not ok\n",
            "Male - 24 - ok\n",
            "Female - 19 - ok\n",
            "female - 20 - ok\n",
            "Male - 18 - ok\n",
            "Male - 26 - not ok\n",
            "Female - 17 - not ok\n",
            "Female - 17 - ok\n",
            "Male - 24 - ok\n",
            "Female - 23 - ok\n",
            "male - 21 - ok\n"
          ],
          "name": "stdout"
        }
      ]
    },
    {
      "cell_type": "code",
      "metadata": {
        "id": "WSQ2WX9Psiuj",
        "colab_type": "code",
        "colab": {}
      },
      "source": [
        "import matplotlib.pyplot as plt\n",
        "import numpy as np"
      ],
      "execution_count": 0,
      "outputs": []
    },
    {
      "cell_type": "code",
      "metadata": {
        "id": "8yhr_FkEvtg-",
        "colab_type": "code",
        "outputId": "ba76963c-ae1e-4e14-914f-9d627eb5194a",
        "colab": {
          "base_uri": "https://localhost:8080/",
          "height": 136
        }
      },
      "source": [
        "np.logical_and(np.array(gender) == 'Female', np.array(gender) == 'Male')"
      ],
      "execution_count": 0,
      "outputs": [
        {
          "output_type": "execute_result",
          "data": {
            "text/plain": [
              "array([False, False, False, False, False, False, False, False, False,\n",
              "       False, False, False, False, False, False, False, False, False,\n",
              "       False, False, False, False, False, False, False, False, False,\n",
              "       False, False, False, False, False, False, False, False, False,\n",
              "       False, False, False, False, False, False, False, False, False,\n",
              "       False, False, False, False, False, False, False, False, False,\n",
              "       False, False, False])"
            ]
          },
          "metadata": {
            "tags": []
          },
          "execution_count": 132
        }
      ]
    },
    {
      "cell_type": "code",
      "metadata": {
        "id": "CPJhYPAdsqMb",
        "colab_type": "code",
        "outputId": "88995e51-ac85-4403-85e0-841815bca57e",
        "colab": {
          "base_uri": "https://localhost:8080/",
          "height": 298
        }
      },
      "source": [
        "ax = plt.subplot(2,2,1)\n",
        "plt.hist(np.array(age)[np.logical_and(np.array(labels) == 'ok', np.array(gender) == 'Male')])\n",
        "plt.ylim([0,4])\n",
        "plt.ylabel('Male')\n",
        "plt.title('OK')\n",
        "ax = plt.subplot(2,2,2)\n",
        "plt.hist(np.array(age)[np.logical_and(np.array(labels) == 'not ok', np.array(gender) == 'Male')]);\n",
        "plt.hist(np.array(age)[np.logical_and(np.array(labels) == 'not ok', np.array(gender) == 'Male')]);\n",
        "plt.ylim([0,4])\n",
        "plt.title('Not OK')\n",
        "\n",
        "ax = plt.subplot(2,2,3)\n",
        "plt.hist(np.array(age)[np.logical_and(np.array(labels) == 'ok', np.array(gender) == 'Female')])\n",
        "plt.ylim([0,4])\n",
        "plt.ylabel('Female')\n",
        "ax = plt.subplot(2,2,4)\n",
        "plt.hist(np.array(age)[np.logical_and(np.array(labels) == 'not ok', np.array(gender) == 'Female')]);\n",
        "plt.hist(np.array(age)[np.logical_and(np.array(labels) == 'not ok', np.array(gender) == 'Female')]);\n",
        "plt.ylim([0,4]);"
      ],
      "execution_count": 0,
      "outputs": [
        {
          "output_type": "execute_result",
          "data": {
            "text/plain": [
              "(0.0, 4.0)"
            ]
          },
          "metadata": {
            "tags": []
          },
          "execution_count": 137
        },
        {
          "output_type": "display_data",
          "data": {
            "image/png": "[encoded data removed]",
            "text/plain": [
              "<Figure size 432x288 with 4 Axes>"
            ]
          },
          "metadata": {
            "tags": [],
            "needs_background": "light"
          }
        }
      ]
    }
  ]
}